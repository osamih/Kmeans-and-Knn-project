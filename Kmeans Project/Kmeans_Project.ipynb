{
  "nbformat": 4,
  "nbformat_minor": 0,
  "metadata": {
    "colab": {
      "provenance": []
    },
    "kernelspec": {
      "name": "python3",
      "display_name": "Python 3"
    },
    "language_info": {
      "name": "python"
    }
  },
  "cells": [
    {
      "cell_type": "markdown",
      "source": [
        "# K-means"
      ],
      "metadata": {
        "id": "dpmnGiSCW6vf"
      }
    },
    {
      "cell_type": "markdown",
      "source": [
        "## Importation des bibliothèques"
      ],
      "metadata": {
        "id": "80lIiv5iW_rP"
      }
    },
    {
      "cell_type": "code",
      "source": [
        "import numpy as np\n",
        "import matplotlib.pyplot as plt\n",
        "import pandas as pd"
      ],
      "metadata": {
        "id": "ddMXee9mXHTD"
      },
      "execution_count": null,
      "outputs": []
    },
    {
      "cell_type": "markdown",
      "source": [
        "## Importation de la dataset"
      ],
      "metadata": {
        "id": "jRIdRPcJXH6t"
      }
    },
    {
      "cell_type": "code",
      "source": [
        "dataset = pd.read_csv('dataset_etudiant.csv')\n",
        "X = dataset.iloc[:, :].values"
      ],
      "metadata": {
        "id": "I7yxpIiWXLb0"
      },
      "execution_count": null,
      "outputs": []
    },
    {
      "cell_type": "markdown",
      "source": [
        "## Le modèle KMeans (la classe)"
      ],
      "metadata": {
        "id": "cb7psb6-XL4C"
      }
    },
    {
      "cell_type": "code",
      "source": [
        "def euclidean_distance(x1, x2):\n",
        "    return np.sqrt(np.sum((x1 - x2) ** 2))\n",
        "\n",
        "\n",
        "class KMeans:\n",
        "    def __init__(self, K=5, max_iters=100):\n",
        "        self.K = K\n",
        "        self.max_iters = max_iters\n",
        "\n",
        "        # liste d'indices d'échantillons pour chaque cluster\n",
        "        self.clusters = [[] for _ in range(self.K)]\n",
        "        # les centres (mean) pour chaque cluster\n",
        "        self.centroids = []\n",
        "\n",
        "    def predict(self, X):\n",
        "        self.X = X\n",
        "        self.n_samples, self.n_features = X.shape\n",
        "\n",
        "        # initialisation\n",
        "        random_sample_idxs = np.random.choice(self.n_samples, self.K, replace=False)\n",
        "        self.centroids = [self.X[idx] for idx in random_sample_idxs]\n",
        "\n",
        "        # optimisation des clusters\n",
        "        for _ in range(self.max_iters):\n",
        "            # Affecter des échantillons aux centroïdes les plus proches (créer des clusters)\n",
        "            self.clusters = self._create_clusters(self.centroids)\n",
        "\n",
        "            # Calcul de nouveaux centroïdes à partir des clusters\n",
        "            centroids_old = self.centroids\n",
        "            self.centroids = self._get_centroids(self.clusters)\n",
        "\n",
        "            # vérifier si les clusters ont changé\n",
        "            if self._is_converged(centroids_old, self.centroids):\n",
        "                break\n",
        "\n",
        "        # Classer les échantillons comme l'indice de leurs clusters\n",
        "        return self._get_cluster_labels(self.clusters)\n",
        "\n",
        "    def _get_cluster_labels(self, clusters):\n",
        "        # chaque échantillon recevra l'étiquette du cluster auquel il a été attribué\n",
        "        labels = np.empty(self.n_samples)\n",
        "\n",
        "        for cluster_idx, cluster in enumerate(clusters):\n",
        "            for sample_index in cluster:\n",
        "                labels[sample_index] = cluster_idx\n",
        "        return labels\n",
        "\n",
        "    def _create_clusters(self, centroids):\n",
        "        # Attribuez les échantillons aux centroïdes les plus proches pour créer des clusters\n",
        "        clusters = [[] for _ in range(self.K)]\n",
        "        for idx, sample in enumerate(self.X):\n",
        "            centroid_idx = self._closest_centroid(sample, centroids)\n",
        "            clusters[centroid_idx].append(idx)\n",
        "        return clusters\n",
        "\n",
        "    def _closest_centroid(self, sample, centroids):\n",
        "        # distance de l'échantillon actuel à chaque centroïde\n",
        "        distances = [euclidean_distance(sample, point) for point in centroids]\n",
        "        closest_index = np.argmin(distances)\n",
        "        return closest_index\n",
        "\n",
        "    def _get_centroids(self, clusters):\n",
        "        # attribuer la valeur moyenne des clusters aux centroïdes\n",
        "        centroids = np.zeros((self.K, self.n_features))\n",
        "        for cluster_idx, cluster in enumerate(clusters):\n",
        "            cluster_mean = np.mean(self.X[cluster], axis=0)\n",
        "            centroids[cluster_idx] = cluster_mean\n",
        "        return centroids\n",
        "\n",
        "    def _is_converged(self, centroids_old, centroids):\n",
        "        # distances entre chaque ancien et nouveau centre de gravité, pour tous les centres de gravité\n",
        "        distances = [\n",
        "            euclidean_distance(centroids_old[i], centroids[i]) for i in range(self.K)\n",
        "        ]\n",
        "        return sum(distances) == 0\n",
        "\n",
        "    def plot(self):\n",
        "        fig, ax = plt.subplots(figsize=(12, 8))\n",
        "\n",
        "        for i, index in enumerate(self.clusters):\n",
        "            point = self.X[index].T\n",
        "            ax.scatter(*point)\n",
        "\n",
        "        for point in self.centroids:\n",
        "            ax.scatter(*point, marker=\"x\", color=\"black\", linewidth=2)\n",
        "\n",
        "        plt.show()"
      ],
      "metadata": {
        "id": "we64FYrbXc15"
      },
      "execution_count": null,
      "outputs": []
    },
    {
      "cell_type": "markdown",
      "source": [
        "## L'entraînement du modèle K-means sur la dataset"
      ],
      "metadata": {
        "id": "M9YYmsalXcJp"
      }
    },
    {
      "cell_type": "code",
      "source": [
        "kmeans = KMeans(K=3, max_iters=150)\n",
        "y_pred = kmeans.predict(X)\n",
        "print(y_pred)"
      ],
      "metadata": {
        "colab": {
          "base_uri": "https://localhost:8080/"
        },
        "id": "yjLaTYQvXi-i",
        "outputId": "462aef09-34a0-4188-be9c-573b6a40bd8e"
      },
      "execution_count": null,
      "outputs": [
        {
          "output_type": "stream",
          "name": "stdout",
          "text": [
            "[0. 0. 2. 0. 2. 2. 2. 0. 2. 0. 1. 1. 2. 1. 1. 1. 0. 1. 1. 1. 1. 0. 1. 1.\n",
            " 1. 2. 2. 2. 2. 0. 2. 2. 2. 0. 2. 1. 2. 0. 2. 0. 0. 0. 0. 1. 1. 0. 2. 0.\n",
            " 1. 0.]\n"
          ]
        }
      ]
    },
    {
      "cell_type": "markdown",
      "source": [
        "## Visualisation des clusters"
      ],
      "metadata": {
        "id": "KmDhVy0yXjZQ"
      }
    },
    {
      "cell_type": "code",
      "source": [
        "kmeans.plot()"
      ],
      "metadata": {
        "colab": {
          "base_uri": "https://localhost:8080/",
          "height": 483
        },
        "id": "wfatVecDnqAa",
        "outputId": "9d56f36f-f449-47e9-c3e8-64dbf507113c"
      },
      "execution_count": null,
      "outputs": [
        {
          "output_type": "display_data",
          "data": {
            "text/plain": [
              "<Figure size 864x576 with 1 Axes>"
            ],
            "image/png": "[encoded data removed]"
          },
          "metadata": {
            "needs_background": "light"
          }
        }
      ]
    }
  ]
}