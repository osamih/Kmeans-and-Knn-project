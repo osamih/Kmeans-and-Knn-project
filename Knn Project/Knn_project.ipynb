{
  "nbformat": 4,
  "nbformat_minor": 0,
  "metadata": {
    "colab": {
      "provenance": []
    },
    "kernelspec": {
      "name": "python3",
      "display_name": "Python 3"
    },
    "language_info": {
      "name": "python"
    }
  },
  "cells": [
    {
      "cell_type": "markdown",
      "source": [
        "# k-nearest neighbors (KNN)"
      ],
      "metadata": {
        "id": "7e2SOJGeo-6H"
      }
    },
    {
      "cell_type": "markdown",
      "source": [
        "## Importation des bibliothèques"
      ],
      "metadata": {
        "id": "xdYamVp5pPkD"
      }
    },
    {
      "cell_type": "code",
      "source": [
        "import numpy as np\n",
        "import matplotlib.pyplot as plt\n",
        "import pandas as pd\n",
        "from collections import Counter"
      ],
      "metadata": {
        "id": "0hCv-TvspSTY"
      },
      "execution_count": null,
      "outputs": []
    },
    {
      "cell_type": "markdown",
      "source": [
        "## Importation de la dataset"
      ],
      "metadata": {
        "id": "VTwHoYDopSmm"
      }
    },
    {
      "cell_type": "code",
      "source": [
        "dataset = pd.read_csv('dataset_etudiants.csv')\n",
        "X = dataset.iloc[:, :-1].values\n",
        "y = dataset.iloc[:, -1].values"
      ],
      "metadata": {
        "id": "Mf1ugPbjpWlv"
      },
      "execution_count": null,
      "outputs": []
    },
    {
      "cell_type": "markdown",
      "source": [
        "## Le modèle KNN (la classe)"
      ],
      "metadata": {
        "id": "Os-P3ttUpXdJ"
      }
    },
    {
      "cell_type": "code",
      "source": [
        "class KNN:\n",
        "    def __init__(self, k=3):\n",
        "        self.k = k\n",
        "\n",
        "    def fit(self, X, y):\n",
        "        self.X_train = X\n",
        "        self.y_train = y\n",
        "\n",
        "    def predict(self, X):\n",
        "        y_pred = [self._predict(x) for x in X]\n",
        "        return np.array(y_pred)\n",
        "\n",
        "    def _predict(self, x):\n",
        "        # Calculer les distances entre x et tous les exemples de la dataset\n",
        "        distances = [euclidean_distance(x, x_train) for x_train in self.X_train]\n",
        "        # Trier par distance et retourne les indices des k premiers voisins\n",
        "        k_idx = np.argsort(distances)[: self.k]\n",
        "        # Extraire les labels des k proche voisins des exemples de la dataset\n",
        "        k_neighbor_labels = [self.y_train[i] for i in k_idx]\n",
        "        # renvoie la label la plus courante\n",
        "        most_common = Counter(k_neighbor_labels).most_common(1)\n",
        "        return most_common[0][0]\n",
        "\n",
        "\n",
        "def euclidean_distance(x1, x2):\n",
        "    return np.sqrt(np.sum((x1 - x2) ** 2))"
      ],
      "metadata": {
        "id": "LdKrJjoXpbnZ"
      },
      "execution_count": null,
      "outputs": []
    },
    {
      "cell_type": "markdown",
      "source": [
        "## Fractionnement de la dataset en training set et la test set"
      ],
      "metadata": {
        "id": "lGSsi2EItipi"
      }
    },
    {
      "cell_type": "code",
      "source": [
        "from sklearn.model_selection import train_test_split\n",
        "X_train, X_test, y_train, y_test = train_test_split(X, y, test_size=0.2, random_state=1234)"
      ],
      "metadata": {
        "id": "4hgRbR1ut0Vv"
      },
      "execution_count": null,
      "outputs": []
    },
    {
      "cell_type": "code",
      "source": [
        "print(X_train)"
      ],
      "metadata": {
        "id": "UROUhVIOuJbV"
      },
      "execution_count": null,
      "outputs": []
    },
    {
      "cell_type": "code",
      "source": [
        "print(X_test)"
      ],
      "metadata": {
        "id": "_-ifzYQ2uK8z"
      },
      "execution_count": null,
      "outputs": []
    },
    {
      "cell_type": "code",
      "source": [
        "print(y_train)"
      ],
      "metadata": {
        "id": "2rbCMtMauMER"
      },
      "execution_count": null,
      "outputs": []
    },
    {
      "cell_type": "code",
      "source": [
        "print(y_test)"
      ],
      "metadata": {
        "id": "X9tNIpbSuMK-"
      },
      "execution_count": null,
      "outputs": []
    },
    {
      "cell_type": "markdown",
      "source": [
        "## L'entraînement du modèle KNN sur la dataset"
      ],
      "metadata": {
        "id": "LWX_5JGTpb0h"
      }
    },
    {
      "cell_type": "code",
      "source": [
        "knn = KNN(k=3)\n",
        "knn.fit(X_train, y_train)"
      ],
      "metadata": {
        "id": "TcSkvJUnuG_L"
      },
      "execution_count": null,
      "outputs": []
    },
    {
      "cell_type": "markdown",
      "source": [
        "## La prédiction de X_test"
      ],
      "metadata": {
        "id": "WFGIq-eKudaO"
      }
    },
    {
      "cell_type": "code",
      "source": [
        "predictions = knn.predict(X_test)\n",
        "print(predictions)"
      ],
      "metadata": {
        "id": "pA4bLPePudp6"
      },
      "execution_count": null,
      "outputs": []
    },
    {
      "cell_type": "markdown",
      "source": [
        "## La précision de la prediction"
      ],
      "metadata": {
        "id": "T0JCsn3culen"
      }
    },
    {
      "cell_type": "code",
      "source": [
        "def accuracy(y_true, y_pred):\n",
        "  accuracy = np.sum(y_true == y_pred) / len(y_true)\n",
        "  return accuracy\n",
        "\n",
        "print(\"Précision de la classification KNN (entre 0 et 1) est: \", accuracy(y_test, predictions))"
      ],
      "metadata": {
        "colab": {
          "base_uri": "https://localhost:8080/"
        },
        "id": "_NPALMH3phsz",
        "outputId": "ff545a2c-6892-4e61-a688-5d1760c38443"
      },
      "execution_count": null,
      "outputs": [
        {
          "output_type": "stream",
          "name": "stdout",
          "text": [
            "Précision de la classification KNN (entre 0 et 1) est:  1.0\n"
          ]
        }
      ]
    }
  ]
}